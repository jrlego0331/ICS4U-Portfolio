{
 "cells": [
  {
   "attachments": {},
   "cell_type": "markdown",
   "metadata": {},
   "source": [
    "## A2.1\n",
    "### Classes\n",
    "*2023/05/05*"
   ]
  },
  {
   "cell_type": "code",
   "execution_count": 12,
   "metadata": {},
   "outputs": [
    {
     "name": "stdout",
     "output_type": "stream",
     "text": [
      "fastermobile is a sportscar and costs 0.102 dollars per km\n",
      "driving 150 km will cost 15.3 dollars\n",
      "loudermobile is a truck and costs 0.204 dollars per km\n",
      "driving 200 km will cost 40.8 dollars\n"
     ]
    }
   ],
   "source": [
    "class cars():\n",
    "    def __init__(self, name, fuelEfficieny):\n",
    "        self.name = name\n",
    "        self.fuelEfficiency = fuelEfficieny\n",
    "        self.gasPrice = 204 # cents per litre\n",
    "    \n",
    "    def gasExpense(self, distance):\n",
    "        print('driving', distance , 'km will cost',end=' ')\n",
    "        print(round(self.fuelEfficiency*self.gasPrice*distance/(10**4), 4), 'dollars')\n",
    "\n",
    "class trucks(cars):\n",
    "    def introduce(self): print(self.name, 'is a truck and costs', \n",
    "                              round(self.fuelEfficiency*self.gasPrice*(10**-4), 4), 'dollars per km')\n",
    "class sportscars(cars):\n",
    "    def introduce(self): print(self.name, 'is a sportscar and costs', \n",
    "                              round(self.fuelEfficiency*self.gasPrice*(10**-4), 4), 'dollars per km')\n",
    "\n",
    "carA = sportscars('fastermobile', 5)\n",
    "carA.introduce()\n",
    "carA.gasExpense(150)\n",
    "carA = trucks('loudermobile', 10)\n",
    "carA.introduce()\n",
    "carA.gasExpense(200)"
   ]
  }
 ],
 "metadata": {
  "kernelspec": {
   "display_name": "Python 3.7.5 64-bit",
   "language": "python",
   "name": "python3"
  },
  "language_info": {
   "codemirror_mode": {
    "name": "ipython",
    "version": 3
   },
   "file_extension": ".py",
   "mimetype": "text/x-python",
   "name": "python",
   "nbconvert_exporter": "python",
   "pygments_lexer": "ipython3",
   "version": "3.10.8"
  },
  "orig_nbformat": 4,
  "vscode": {
   "interpreter": {
    "hash": "52634da84371cba311ea128a5ea7cdc41ff074b781779e754b270ff9f8153cee"
   }
  }
 },
 "nbformat": 4,
 "nbformat_minor": 2
}
