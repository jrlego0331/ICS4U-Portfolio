{
 "cells": [
  {
   "attachments": {},
   "cell_type": "markdown",
   "metadata": {},
   "source": [
    "## D3\n",
    "\n",
    "**[Essay Guideline (requires TVDSB account)](https://docs.google.com/document/d/16ZHs2UEkCtr1ZkCr85xW_r_SJWSv7Rzj-Ayoac3yKDg/edit?usp=sharing)**\n",
    "\n",
    "\n",
    "**[Computational Geometry](https://docs.google.com/document/d/1fW3f9JC8drhuPBWXRC-hP5omZSaQyKQX1xOkx1glx9Y/edit?usp=sharing)**\n",
    "\n",
    "        Computational geometry is a field within computer science that focuses on geometry. From computer aided design (CAD) and video games to computer vision and physics simulation, computational geometry enables accurate, efficient processing of non-linear data (Eppstein, 1996). Computer science programs in universities always include a chapter dedicated to computational geometry, and other STEM field programs also dedicate a few lectures to teach ing basic geometry computation.\n",
    "        In the early stages of computation algorithms, most calculations were made on unidimensional data inputs. Entering the 1970s, modern computation algorithms for multidimensional inputs were demanded. Computational geometry enabled geometric description and problem solving methods by introducing dynamic programming and a divide and conquer model (Mount, 2002). One of the field’s greatest achievements, the divide and conquer model, breaks down a multidimensional problem, usually with more than three inputs, into several three dimensional or two dimensional problems and attempts geometric solutions. This, of course, increased efficiency in computation since modern computers show their strength in linear, sequential data processing (Toussaint, 2014). Breaking the multidimensional problems down into two dimensional problems also helped more scholars to ‘picture’ and solve complex problems which were only possible to a few gifted minds in the past. \n",
    "        One of the most important characteristics of computational geometry is that the study is focused principally on discrete aspects of geometric problem solving. Most problems of computational geometry include lines, segments, points, planes, polygons, and more that do not deal with curves which require differential geometry. However, simple curved objects like circles are sometimes used. One of the goals of computational geometry is to provide basic geometric tools needed for applications to build algorithms and the other goal is to establish theoretical analytic tools for performance evaluation of those algorithms (Mount, 2020). Like most fields of computer science, the fundamental principles of computational geometry have been established before entering the 21st century. Without computational geometry, current engineers would not have CAD software, physicists would do collision simulation with only calculators and computer games would look much worse than how they look now. \n",
    "        When two seemingly completely different fields coincide and reveal their connection, a beautiful description of a phenomenon is discovered. Godfried Toussaint was one of the leading experts on computational geometry and music theory. He discovered and provided mathematical analyses of cross-cultural characteristics of music through computational geometry and the greatest common divisor analysis. In his paper, The Euclidean Algorithm Generates Traditional Musical Rhythms (Toussaint, 2005) he describes how much of what humans receive as music shares the same principle of euclidean rhythms. The simple algorithm of Euclidean rhythm is visualized with beat points and silence points that are distributed evenly among a polygon. This geometric interpretation of human music is achieved through computational geometry and has been commercialized as sequencers for virtual music instruments and hardware synthesizers. The Euclidean algorithm is a great example of how computational geometry explains universal characteristics of creative art. \n",
    "        Computational geometry is a field that was established to solve multidimensional input problems with limited computing power and discrete geometry. It enabled the development of computer aided design and founded the principles of computer vision. Computational geometry is a field that has recently been established, but almost every STEM field has some relations with it, which tells just how much potential it holds.\n",
    "\n",
    "\n",
    "**References**\n",
    "        \n",
    "        Eppstein, David. (1996, Mar. 7).  ICS 161: Design and Analysis of Algorithms Lecture Notes. Donald Bren School of Information and Computer Sciences. Retrieved 2023, Mar 22 from https://www.ics.uci.edu/~eppstein/161/960307.html\n",
    "        \n",
    "        Mount, David. (2002, Fall). CMSC 754: Computational Geometry. Department of Computer Science, University of Maryland. Retrieved 2023, March 23 from https://www.cs.umd.edu/~mount/754/Lects/754lects.pdf \n",
    "\n",
    "        Mount, David. (2020, Spring). CMSC 754: Lecture 1 Introduction to Computational Geometry. Department of Computer Science, University of Maryland. Retrieved 2023, March 23 from https://www.cs.umd.edu/class/spring2020/cmsc754/Lects/lect01-intro.pdf\n",
    "        \n",
    "        Toussaint, Godfried T. (2005, July 31). The Euclidean Algorithm Generates Traditional Musical Rhythms.  School of Computer Science, McGill University. Retrieved 2023, Mar. 23 from http://cgm.cs.mcgill.ca/~godfried/publications/banff.pdf \n",
    "\n",
    "        Toussaint, Godfried T. (2014, Sept. 28). What Is Computational Geometry?. Computational Geometry Laboratory, McGill University. Retrieved 2023, Mar. 23 from https://cimec.org.ar/foswiki/pub/Main/Cimec/GeometriaComputacional/cg.basics.pdf "
   ]
  }
 ],
 "metadata": {
  "kernelspec": {
   "display_name": "Python 3.7.5 64-bit",
   "language": "python",
   "name": "python3"
  },
  "language_info": {
   "name": "python",
   "version": "3.10.8"
  },
  "orig_nbformat": 4,
  "vscode": {
   "interpreter": {
    "hash": "52634da84371cba311ea128a5ea7cdc41ff074b781779e754b270ff9f8153cee"
   }
  }
 },
 "nbformat": 4,
 "nbformat_minor": 2
}
