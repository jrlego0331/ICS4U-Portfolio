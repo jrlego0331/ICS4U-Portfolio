{
 "cells": [
  {
   "attachments": {},
   "cell_type": "markdown",
   "metadata": {},
   "source": [
    "## D1.1 D1.2\n",
    "\n",
    "**[Essay Guideline (requires TVDSB account)](https://docs.google.com/document/d/1WTHWC_To-9qZ4AHDRXru-2tX_To60inAQd-GyuFf7pE/edit?usp=sharing)**\n",
    "\n",
    "\n",
    "**[Environmental Stewardship and Sustainability](https://docs.google.com/document/d/1Frs-pp7mv2_620NUnZQqivLqTE_Lu1l508P_E3eNsjg/edit?usp=sharing)**\n",
    "\n",
    "        Since most of the world relies on fossil fuel, more efficient operation of anything can be considered as an effort for sustainable development. These efforts to minimize waste and maximize productivity have been around since the beginning of the human race. As new, more efficient technology replaces old, less efficient technology, more and more opportunities are becoming available for the public, which we all take for granted. However, we must not settle. \n",
    "        One example of great energy saving is sleep mode. Either through software or hardware, many electronic devices have automatic off or standby modes that reduce carbon footprint and use less energy when no one is using it (Ravichandran, 2021). The most common trigger for sleep mode is time. After a certain time, they go to sleep mode until the user turns it on again. However, other triggers like motion detection and temperature are being adopted to reduce wasted energy. More complex, multi stage triggers will increase the efficiency even more. \n",
    "        Although most eco-friendly designs put emphasis on physical engineering, programming efficient softwares has been proven to reduce waste dramatically. There are corporations like Diligent that are selling software-based solutions to other companies who are wanting to reduce their negative effect on the nature (Diligent, 2023). When an organization requests a solution to Diligent, they monitor the energy efficiency and come up with a solution to increase energy efficiency. As EU and North American governments enforce carbon footprint regulations, even the pre-existing companies are turning their heads toward achieving a more sustainable future through software solutions. \n",
    "        Since the world we live in is a giant organization, every member is a stakeholder. Even to be selfish, caring is required. Diversified triggers for sleep mode and software solutions for energy efficiency are great examples of our effort to achieve sustainable developments. \n",
    "\n",
    "**References**\n",
    "\n",
    "        Gopalakrishnan Ravichandran. (2021 Jul) How sleep mode in your computer reduces your carbon footprint?. Linkedin. Retrieved Feb 22, 2023 from https://www.linkedin.com/pulse/how-sleep-mode-your-computer-reduces-carbon-footprint-ravichandran\n",
    "\n",
    "        Diligent Corporation. About Us. (2023).. Retrieved Feb 23, 2023 from  https://www.diligent.com/company/about-us/ \n",
    "\n",
    "        Diligent Corporation. Modern ESG. (2023).. Retrieved Feb 23, 2023 from  https://www.diligent.com/modern-esg/ \n",
    "                \n"
   ]
  }
 ],
 "metadata": {
  "kernelspec": {
   "display_name": "Python 3.7.5 64-bit",
   "language": "python",
   "name": "python3"
  },
  "language_info": {
   "name": "python",
   "version": "3.10.8"
  },
  "orig_nbformat": 4,
  "vscode": {
   "interpreter": {
    "hash": "52634da84371cba311ea128a5ea7cdc41ff074b781779e754b270ff9f8153cee"
   }
  }
 },
 "nbformat": 4,
 "nbformat_minor": 2
}
