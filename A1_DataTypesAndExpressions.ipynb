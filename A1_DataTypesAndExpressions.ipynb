{
 "cells": [
  {
   "attachments": {},
   "cell_type": "markdown",
   "metadata": {},
   "source": [
    "## A1.1"
   ]
  },
  {
   "cell_type": "markdown",
   "metadata": {},
   "source": [
    "**Outputs**"
   ]
  },
  {
   "cell_type": "code",
   "execution_count": 1,
   "metadata": {
    "slideshow": {
     "slide_type": "subslide"
    }
   },
   "outputs": [
    {
     "name": "stdout",
     "output_type": "stream",
     "text": [
      "Hello World!\n",
      "Hello World!this is printed without a newline\n"
     ]
    }
   ],
   "source": [
    "print('Hello World!')\n",
    "print('Hello World!', end='') \n",
    "print('this is printed without a newline')"
   ]
  },
  {
   "attachments": {},
   "cell_type": "markdown",
   "metadata": {},
   "source": [
    "**Inputs**"
   ]
  },
  {
   "cell_type": "code",
   "execution_count": 2,
   "metadata": {},
   "outputs": [
    {
     "name": "stdout",
     "output_type": "stream",
     "text": [
      "You have put in no\n"
     ]
    }
   ],
   "source": [
    "print('You have put in ' + input('this takes input'))"
   ]
  },
  {
   "cell_type": "markdown",
   "metadata": {},
   "source": [
    "**Selection if/else**"
   ]
  },
  {
   "cell_type": "code",
   "execution_count": 3,
   "metadata": {},
   "outputs": [
    {
     "name": "stdout",
     "output_type": "stream",
     "text": [
      "Success\n"
     ]
    }
   ],
   "source": [
    "if int(input('put in an integer larger than 5')) > 5: print('Success')\n",
    "else: print('error')"
   ]
  },
  {
   "cell_type": "markdown",
   "metadata": {},
   "source": [
    "**selection case**"
   ]
  },
  {
   "cell_type": "code",
   "execution_count": 4,
   "metadata": {},
   "outputs": [
    {
     "name": "stdout",
     "output_type": "stream",
     "text": [
      "blue chosen\n"
     ]
    }
   ],
   "source": [
    "color = input('choose between red green blue')\n",
    "if color == 'red': print('red chosen')\n",
    "if color == 'green': print('green chosen')\n",
    "if color ==  'blue': print('blue chosen')"
   ]
  },
  {
   "cell_type": "markdown",
   "metadata": {},
   "source": [
    "**Repetition while**"
   ]
  },
  {
   "cell_type": "code",
   "execution_count": 5,
   "metadata": {},
   "outputs": [
    {
     "name": "stdout",
     "output_type": "stream",
     "text": [
      "while True goes on and on and on and on \n",
      "but 10 repetition is enough\n"
     ]
    }
   ],
   "source": [
    "print('while True goes on', end='')\n",
    "count = 0\n",
    "while True:\n",
    "    print(' and on', end='')\n",
    "    count+=1\n",
    "    if count == 3:\n",
    "        print(' \\nbut 10 repetition is enough')\n",
    "        break"
   ]
  },
  {
   "cell_type": "markdown",
   "metadata": {},
   "source": [
    "**Repetition do while**"
   ]
  },
  {
   "cell_type": "code",
   "execution_count": 6,
   "metadata": {},
   "outputs": [
    {
     "name": "stdout",
     "output_type": "stream",
     "text": [
      "this is the 0th loop\n",
      "this is the 1th loop\n",
      "this is the 2th loop\n"
     ]
    }
   ],
   "source": [
    "count = 0\n",
    "while count < 3:\n",
    "    print('this is the '+ str(count)+ 'th loop')\n",
    "    count += 1\n",
    "    "
   ]
  },
  {
   "cell_type": "markdown",
   "metadata": {},
   "source": [
    "**Repetition for**"
   ]
  },
  {
   "cell_type": "code",
   "execution_count": 7,
   "metadata": {},
   "outputs": [
    {
     "name": "stdout",
     "output_type": "stream",
     "text": [
      "this is the 0th loop\n",
      "this is the 1th loop\n",
      "this is the 2th loop\n"
     ]
    }
   ],
   "source": [
    "for n in range(3): print('this is the '+ str(n) +'th loop')"
   ]
  },
  {
   "cell_type": "markdown",
   "metadata": {},
   "source": [
    "**1D array**"
   ]
  },
  {
   "cell_type": "code",
   "execution_count": 8,
   "metadata": {},
   "outputs": [
    {
     "name": "stdout",
     "output_type": "stream",
     "text": [
      "1D array looks like this:  [n1, n2, n3, n4, ~]\n"
     ]
    }
   ],
   "source": [
    "print('1D array looks like this: ', '[n1, n2, n3, n4, ~]')"
   ]
  },
  {
   "cell_type": "markdown",
   "metadata": {},
   "source": [
    "**Subprograms**"
   ]
  },
  {
   "cell_type": "code",
   "execution_count": 9,
   "metadata": {},
   "outputs": [
    {
     "name": "stdout",
     "output_type": "stream",
     "text": [
      "28\n"
     ]
    }
   ],
   "source": [
    "def add(*unlimitedArg):\n",
    "    sum = 0\n",
    "    for n in range(len(unlimitedArg)): sum += unlimitedArg[n]\n",
    "    return sum\n",
    "print(add(1, 2, 3, 4, 5, 6, 7))"
   ]
  },
  {
   "attachments": {},
   "cell_type": "markdown",
   "metadata": {},
   "source": [
    "## A1.2"
   ]
  },
  {
   "attachments": {},
   "cell_type": "markdown",
   "metadata": {},
   "source": [
    "**Type Conversions**"
   ]
  },
  {
   "cell_type": "code",
   "execution_count": 3,
   "metadata": {},
   "outputs": [
    {
     "name": "stdout",
     "output_type": "stream",
     "text": [
      "int() gives integer type <class 'int'>\n",
      "float() gives float type <class 'float'>\n",
      "str() gives string type <class 'str'>\n",
      "bool() gives boolean type <class 'bool'>\n"
     ]
    }
   ],
   "source": [
    "print('int() gives integer type', type(int('10')))\n",
    "print('float() gives float type', type(float('0.1')))\n",
    "print('str() gives string type', type(str('10')))\n",
    "print('bool() gives boolean type', type(bool('anythin')))"
   ]
  },
  {
   "attachments": {},
   "cell_type": "markdown",
   "metadata": {},
   "source": [
    "## A1.3"
   ]
  },
  {
   "attachments": {},
   "cell_type": "markdown",
   "metadata": {},
   "source": [
    "**Non-numeric Comparisons**"
   ]
  },
  {
   "cell_type": "code",
   "execution_count": 11,
   "metadata": {},
   "outputs": [
    {
     "name": "stdout",
     "output_type": "stream",
     "text": [
      "string 1:  what , string 2: why\n",
      "string 1 is longer than string 2\n"
     ]
    }
   ],
   "source": [
    "string1, string2 = input('string 1: '), input('string 1: ')\n",
    "print('string 1: ', string1 ,', string 2:', string2)\n",
    "if string1 == string2: print('two strings are exactly the same')\n",
    "if len(string1) == len(string2): print('two strings have the same length')\n",
    "if len(string1) > len(string2): print('string 1 is longer than string 2')\n",
    "if len(string1) < len(string2): print('string 2 is longer than string 2')"
   ]
  },
  {
   "attachments": {},
   "cell_type": "markdown",
   "metadata": {},
   "source": [
    "## A1.4"
   ]
  },
  {
   "cell_type": "markdown",
   "metadata": {},
   "source": [
    "### Classwork - Number Guessing\n",
    "*2023-02-17*"
   ]
  },
  {
   "cell_type": "code",
   "execution_count": 2,
   "metadata": {},
   "outputs": [
    {
     "name": "stdout",
     "output_type": "stream",
     "text": [
      "Guess the Number! \n",
      " 1. Easy (1, 10)  2. Experienced (1, 50)  3. Hard (1, 100)\n",
      "You have chosen:  1\n",
      "Too Big\n",
      "You got it in 1 tries\n"
     ]
    }
   ],
   "source": [
    "from random import randint\n",
    "levels = [(1,10),  (1,50), (1,100)]\n",
    "print('Guess the Number! \\n 1. Easy', levels[0], ' 2. Experienced', levels[1], ' 3. Hard', levels[2])\n",
    "guessCount = 0\n",
    "\n",
    "while True:    \n",
    "    try: \n",
    "        difficulty = int(input('Your Difficulty: '))\n",
    "        answer = randint(levels[difficulty-1][0], levels[difficulty-1][1])\n",
    "        print('You have chosen: ', difficulty)\n",
    "        break\n",
    "    except: print('error: choose an integer between 1~3')\n",
    "\n",
    "\n",
    "while True:\n",
    "    try:\n",
    "        guessCount+=1\n",
    "        guess = int(input('Your Guess: '))\n",
    "        if answer == guess: break\n",
    "        if answer > guess: print('Too Small')\n",
    "        if answer < guess: print('Too Big')  \n",
    "    except: print('Input must be between an integer!')\n",
    "\n",
    "print('You got it in', guessCount, 'tries')"
   ]
  },
  {
   "attachments": {},
   "cell_type": "markdown",
   "metadata": {},
   "source": [
    "## A1.5"
   ]
  },
  {
   "attachments": {},
   "cell_type": "markdown",
   "metadata": {},
   "source": [
    "### Classwork - Array Review\n",
    "*2023-03-03*"
   ]
  },
  {
   "cell_type": "code",
   "execution_count": null,
   "metadata": {},
   "outputs": [
    {
     "name": "stdout",
     "output_type": "stream",
     "text": [
      "------------------------------------------------------------\n",
      "Eric Cartman wears Red and has 0.0 siblings. He is the Fatass\n",
      "Kenney McCormick wears Orange and has 2.0 siblings. He is the Poor\n",
      "Kyle Broflovski wears Green and has 1.0 siblings. He is the Ginger\n",
      "Stan Marsh wears Blue and has 1.0 siblings. He is the Hippie\n",
      "------------------------------------------------------------\n"
     ]
    }
   ],
   "source": [
    "from IPython.display import clear_output\n",
    "characters = [('Eric', 'Cartman', 'Red', 0.0, 'Fatass'),\n",
    "              ('Stan', 'Marsh', 'Blue', 1.0, 'Hippie'),\n",
    "              ('Kyle', 'Broflovski', 'Green', 1.0, 'Ginger'),\n",
    "              ('Kenney', 'McCormick', 'Orange', 2.0, 'Poor')]\n",
    "attributes = ('first name', 'last name', 'main color', 'number of siblings', 'nickname')\n",
    "alphabets = ('A', 'a', 'B', 'b', 'C', 'c', 'D', 'd', 'E', 'e', 'F', 'f', 'G', 'g', 'H', 'h', 'I', 'i',\n",
    "            'J', 'j', 'K', 'k', 'L', 'l', 'M', 'm', 'N', 'n', 'O', 'o', 'P', 'p', 'Q', 'q', 'R', 'r',\n",
    "            'S', 's', 'T', 't', 'U', 'u', 'V', 'v', 'W', 'w', 'S', 's', 'Y', 'y', 'Z', 'z')\n",
    "\n",
    "def displayArray(array):\n",
    "    clear_output(True)\n",
    "    print('-'*60)\n",
    "    for item in array:\n",
    "        print(item[0], item[1], 'wears', item[2], 'and has', item[3], 'siblings. He is the', item[4])\n",
    "    print('-'*60)\n",
    "    \n",
    "\n",
    "while True:\n",
    "    displayArray(characters)\n",
    "\n",
    "    try: operation = int(input('1 - add item\\t2 - delete item\\t3 - sort\\t4 - quit'))\n",
    "    except: \n",
    "        print('wrong input')\n",
    "        operation = 0\n",
    "    \n",
    "    #item adding\n",
    "    if operation == 1: \n",
    "        print('adding new chracter')\n",
    "        newItem = list(input('input firstname, lastname, main color, number of siblings and nickname, distinguish by space').split(' '))\n",
    "        if len(newItem) == 5:\n",
    "            newItem[3] = float(newItem[3])\n",
    "            characters.append(newItem)\n",
    "            continue\n",
    "        print('missing componet!')\n",
    "\n",
    "    #item deleting\n",
    "    if operation == 2:\n",
    "        delWhat = input('character with specific attribute you inputed will be deleted')\n",
    "        for item in characters:\n",
    "            for component in item:\n",
    "                if component == delWhat: characters.pop(characters.index(item))\n",
    "\n",
    "    #item sorting\n",
    "    if operation == 3:\n",
    "        print('sorting selected. sort by:')\n",
    "        sortBy = attributes.index((input(attributes)))\n",
    "        order = []\n",
    "        rcChanged = list(zip(*characters))\n",
    "        newlist = []\n",
    "\n",
    "        if sortBy != 3:\n",
    "            for n in range(len(rcChanged[sortBy])):\n",
    "                try:\n",
    "                    obsAlphabetIndex = alphabets.index(rcChanged[sortBy][n][0])\n",
    "                    dupleIndex = order.index(obsAlphabetIndex) \n",
    "                    if alphabets.index(rcChanged[sortBy][n][1]) > alphabets.index(rcChanged[sortBy][dupleIndex][1]): order.append(obsAlphabetIndex+0.5)\n",
    "                    else: order.append(obsAlphabetIndex-0.5)\n",
    "\n",
    "                except: order.append(alphabets.index(rcChanged[sortBy][n][0]))\n",
    "            \n",
    "        else: order = list(rcChanged[sortBy])\n",
    "        \n",
    "        for n in range(len(order)):\n",
    "            indexOfMax = order.index(min(order))\n",
    "            newlist.append(characters[indexOfMax])\n",
    "            order[indexOfMax] = 100.0\n",
    "        \n",
    "        characters = newlist\n",
    "       \n",
    "    #quit\n",
    "    if operation == 4: break\n"
   ]
  }
 ],
 "metadata": {
  "kernelspec": {
   "display_name": "Python 3",
   "language": "python",
   "name": "python3"
  },
  "language_info": {
   "codemirror_mode": {
    "name": "ipython",
    "version": 3
   },
   "file_extension": ".py",
   "mimetype": "text/x-python",
   "name": "python",
   "nbconvert_exporter": "python",
   "pygments_lexer": "ipython3",
   "version": "3.10.8"
  },
  "orig_nbformat": 4,
  "vscode": {
   "interpreter": {
    "hash": "52634da84371cba311ea128a5ea7cdc41ff074b781779e754b270ff9f8153cee"
   }
  }
 },
 "nbformat": 4,
 "nbformat_minor": 2
}
