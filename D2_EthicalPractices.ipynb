{
 "cells": [
  {
   "attachments": {},
   "cell_type": "markdown",
   "metadata": {},
   "source": [
    "## D2.1 D2.2\n",
    "\n",
    "**[Essay Guideline (requires TVDSB account)](https://docs.google.com/document/d/1J5u1ZLmC72-1bi_zfbthzBkVACEu2vLChpLouJKOcno/edit?usp=sharing)**\n",
    "\n",
    "\n",
    "**[Code of Ethics for Computer Programmers](https://docs.google.com/document/d/1b8L_AhJQusQXLlvYHJjR8BDplRjX94ylrJTXjH-5QtE/edit?usp=sharing)**\n",
    "\n",
    "        Code of ethics for programmers sets guidelines for individuals to be cautious with their creation and the resulting effect. Although the code of ethics has no legal power, it is crucial for developers to evaluate their work in terms of ethics. Of course, there can never be a definite rule that can encapsulate every possible misconduct of software development. However, it is important to open up a consistent dialog with regards to the ethics and morality of computer programmers.\n",
    "        The basis of code of ethics for programmers is not that different from any other code of ethics. Programmers are expected to respect user’s rights like privacy and confidentiality, as well as to provide proper credit when using other people’s work (Stanford Encyclopedia of Philosophy Archive, 2001). One of the distinct features of codes of ethics for programmers is the consideration for compatibility. To follow this, ethical programmers should know that the new softwares isn't always going to be compatible with the user's old softwares. Ignoring this can be considered as avoiding their responsibilities on their past creation. \n",
    "        As commercial computer processors become more and more powerful, imitation of specific artstyle through machine learning has become a big issue among the content creators (Nolan 2023). Some are even monetizing the ‘AI-generated’ artwork that is trained on actual artists' creations. Although many copyright laws limit their protection to human creation, this new form of creation raises many questions about what is art and regulations on it. \n",
    "        Tools don't always reflect the intentions of the creator. Just like everything else, what was supposed to bring good to the world can be used in an unintended way. Debates on machine learning based artwork is something that no one would have thought of 20 years ago. Therefore, programmers must have basic ethics on their creation and have constant conversation about it.\n",
    "\n",
    "\n",
    "**References**\n",
    "\n",
    "        ACM. ACM Code of Ethics and Professional Conduct. (2018). Retrieved Mar 1, 2023 from https://www.acm.org/code-of-ethics \n",
    "        IBM. Advancing AI ethics beyond compliance. (2020). Retrieved Mar 1, 2023 from https://www.ibm.com/downloads/cas/J2LAYLOZ \n",
    "        IEEE. IEEE Code Of Ethics. (2020). Retrieved Mar 1, 2023 from https://www.ieee.org/content/dam/ieee-org/ieee/web/org/about/corporate/ieee-code-of-ethics.pdf \n",
    "        Stanford Encyclopedia of Philosophy Archive. Computer and Information Ethics. (2001). Retrieved Mar 1, 2023 from  https://plato.stanford.edu/archives/sum2020/entries/ethics-computer/ \n",
    "\n"
   ]
  },
  {
   "attachments": {},
   "cell_type": "markdown",
   "metadata": {},
   "source": [
    "## D2.3\n",
    "\n",
    "**[Essay Guideline (requires TVDSB account)](https://docs.google.com/document/d/1IouwPiyHYfh1Pos4a0bO7XpBDA4qyzSPSObM0pcv3sI/edit?usp=sharing)**\n",
    "\n",
    "\n",
    "**[Personal Ethics Strategies](https://docs.google.com/document/d/1hw5IoB0c-r9i8V77ELO5V_tWHfDng5IsZmafM1xWVSI/edit?usp=sharing)**\n",
    "\n",
    "        Ethics are easily spoken of, but hardly executed with consistency. I have set up my standards of viewing others' behaviors, but when it comes to judging myself, I seem to get more forgiving. This of course does not mean I seek to find ironclad, non-negotiable moral absolutes. However, I do have the need to evaluate my behaviors without hypocrisy. My standards on computer-related ethics are not quite different from what I’ve gone through in class. \n",
    "        There are plenty of ways to download or stream other’s work without paying them. Although I view 21st century copyright law as something that contradicts every intention of the original, it is a law and I do follow it. However, I rarely make the proper reference notations on unofficial personal works. While most of my works are made public through github and cloud services, I haven’t made any proper reference citings which I’m sure some law requires me to do. So far, I haven’t made anything by myself that can be commercialized, but if I do, I will need to learn how to properly reference the contributors. \n",
    "        My media is mostly streamed from YouTube premium and Netflix, which I pay about 50 Canadian dollars every month. I am on family membership on both services and do not go over the 5 person restriction. However, I do download pdf files of classic, modern books, lectures from the internet without thinking about its legality. Some books, especially the ones before the 1970s are often public domain and even provided by some sort of foundation. I never bothered to find out about their legality, but I guess I should look into it in the future. \n",
    "        My personal ethics on media sharing and downloads differ from what most laws dictate. However, I do respect the law, so I have been following copyright guidelines. I purchase subscription services from platforms that pay the content creators, and I am planning to become aware of copyrights when I download needed media. \n"
   ]
  }
 ],
 "metadata": {
  "kernelspec": {
   "display_name": "Python 3.7.5 64-bit",
   "language": "python",
   "name": "python3"
  },
  "language_info": {
   "name": "python",
   "version": "3.10.8"
  },
  "orig_nbformat": 4,
  "vscode": {
   "interpreter": {
    "hash": "52634da84371cba311ea128a5ea7cdc41ff074b781779e754b270ff9f8153cee"
   }
  }
 },
 "nbformat": 4,
 "nbformat_minor": 2
}
