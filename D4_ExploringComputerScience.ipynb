{
 "cells": [
  {
   "attachments": {},
   "cell_type": "markdown",
   "metadata": {},
   "source": [
    "## D4.3 D4.4\n",
    "\n",
    "**[Essay Guideline (requires TVDSB account)](https://docs.google.com/document/d/1ycELXy1LUU8As1XbMghgwYZjV_qvyNJmmP0Z-9RaKHU/edit?usp=sharing)**\n",
    "\n",
    "\n",
    "**[Computer Careers - Computational Physicists](https://docs.google.com/document/d/1r4IKrjHKhtoYtujb10Q_fX_xjE9DIAaNfb8G47XEl8M/edit?usp=sharing)**\n",
    "\n",
    "        Computational physicists use advanced algorithms to simulate and analyze data (Computational Physicist, n.d.). Like many other computer science related careers, it requires a thorough understanding of mathematics, programming and of course, physics. Although I have none of those skills yet, I vaguely hope that I will develop those skills without giving up after realizing that I was never smart enough. I do know great sources of knowledge to learn more about physics and mathematics, so I should do those when I’m not doing schoolwork. \n",
    "        Many computational physicists are involved in simulator developments which are adopted to a wide variety of industries. From architecture stress tests to vehicle collision simulation to even space missions, computational physicists are involved (Purdue College of Science, n.d.). Many insurance companies purchase vehicle collision simulators to distinguish insurance frauds and set profitable insurance plans for different kinds of vehicles. These kinds of physics simulators are even adopted into the legal system to provide scientific proof for the decision of the court.\n",
    "        However, not every computational physicist works on industrial simulation developments. Some are employed in laboratories and research facilities to process data sets for proving scientific hypotheses. Even machine learning algorithms are implemented to create mathematical models for phenomenons that current science cannot explain (CareerExplorer, 2021). Although these workfields are quite distant from everyday life compared to industrial simulators, they are crucial for academic research.\n",
    "        Although I am never going to fully understand physics, having some understanding of the field can combine with programming skills and enable me to have a job in a field that I like. It is a career with a bright future once you successfully specialize.\n",
    "\n",
    "**References**\n",
    "\n",
    "        Computational physicist. Chegg Internships. (n.d.). Retrieved February 9, 2023, from https://www.internships.com/careers/computational-physicist \n",
    "\n",
    "        Purdue College of Science, P. U. (n.d.). Computational physics. Computational Physics - College of Science - Purdue University. Retrieved February 9, 2023, from https://www.purdue.edu/science/careers/what_can_i_do_with_a_major/Career%20Pages/computational_physics.html \n",
    "        \n",
    "        CareerExplorer. (2021, February 23). What does a physicist do? CareerExplorer. Retrieved February 9, 2023, from https://www.careerexplorer.com/careers/physicist/ \n"
   ]
  }
 ],
 "metadata": {
  "kernelspec": {
   "display_name": "Python 3.7.5 64-bit",
   "language": "python",
   "name": "python3"
  },
  "language_info": {
   "name": "python",
   "version": "3.10.8"
  },
  "orig_nbformat": 4,
  "vscode": {
   "interpreter": {
    "hash": "52634da84371cba311ea128a5ea7cdc41ff074b781779e754b270ff9f8153cee"
   }
  }
 },
 "nbformat": 4,
 "nbformat_minor": 2
}
