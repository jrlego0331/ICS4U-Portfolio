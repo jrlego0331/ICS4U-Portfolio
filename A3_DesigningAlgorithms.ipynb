{
 "cells": [
  {
   "attachments": {},
   "cell_type": "markdown",
   "metadata": {},
   "source": [
    "## A3.1"
   ]
  },
  {
   "cell_type": "markdown",
   "metadata": {},
   "source": [
    "## A3.2"
   ]
  },
  {
   "attachments": {},
   "cell_type": "markdown",
   "metadata": {},
   "source": [
    "## A3.3"
   ]
  },
  {
   "attachments": {},
   "cell_type": "markdown",
   "metadata": {},
   "source": [
    "## A3.4"
   ]
  },
  {
   "attachments": {},
   "cell_type": "markdown",
   "metadata": {},
   "source": [
    "### Sorting\n",
    "*2023/04/06*"
   ]
  },
  {
   "cell_type": "code",
   "execution_count": 27,
   "metadata": {},
   "outputs": [
    {
     "name": "stdout",
     "output_type": "stream",
     "text": [
      "original array [0.76208328 0.45298472 0.96836784 0.40956002 0.44120666]\n",
      "\n",
      "bubble sorted array [0.40956002 0.44120666 0.45298472 0.76208328 0.96836784] \n",
      "took 10 iterations\n",
      "selection sorted array [0.40956002 0.44120666 0.45298472 0.76208328 0.96836784] \n",
      "took 15 iterations\n",
      "insertion sorted array [0.40956002 0.44120666 0.45298472 0.76208328 0.96836784] \n",
      "took 7 iterations\n",
      "gnome sorted array [0.40956002 0.44120666 0.45298472 0.76208328 0.96836784] \n",
      "took 19 iterations\n"
     ]
    }
   ],
   "source": [
    "import numpy as np\n",
    "\n",
    "def bubbleSort(original):\n",
    "    result = np.copy(original)\n",
    "    n = len(result)\n",
    "    iteration = 0\n",
    "\n",
    "    for i in range(n):\n",
    "        for j in range(n-i-1):\n",
    "            if result[j] > result[j+1]: result[j], result[j+1] = result[j+1], result[j]\n",
    "            iteration+=1\n",
    "    return result, iteration\n",
    "\n",
    "def selectionSort(original):\n",
    "    result = np.copy(original)\n",
    "    n = len(result)\n",
    "    iteration = 0\n",
    "\n",
    "    for i in range(n):\n",
    "        minIndex = i\n",
    "        for j in range(i, n):\n",
    "            if result[j] < result[minIndex]: minIndex = j\n",
    "            iteration+=1\n",
    "        result[i], result[minIndex] = result[minIndex], result[i]\n",
    "    return result, iteration\n",
    "        \n",
    "def insertionSort(original):\n",
    "    result =np.copy(original)\n",
    "    n = len(result)\n",
    "    iteration = 0\n",
    "\n",
    "    for i in range(1, n):\n",
    "        sel = result[i]\n",
    "        j = i-1\n",
    "        while j >= 0 and sel < result[j]: \n",
    "            result[j+1] = result[j]\n",
    "            j-=1\n",
    "            iteration+=1\n",
    "        result[j+1] = sel\n",
    "    return result, iteration\n",
    "\n",
    "def gnomeSort(original):\n",
    "    result = np.copy(original)\n",
    "    n =len(result)\n",
    "    iteration = 0\n",
    "    \n",
    "    i = 0\n",
    "    while i < n:\n",
    "        if i == 0 or result[i] > result[i-1]: i+=1\n",
    "        else:\n",
    "            result[i], result[i-1] = result[i-1], result[i]\n",
    "            i-=1\n",
    "        iteration+=1\n",
    "    return result, iteration\n",
    "\n",
    "original = np.random.rand(5)\n",
    "print('original array', original, end='\\n\\n')\n",
    "\n",
    "bubbleSorted, bubbleIteration = bubbleSort(original)\n",
    "print('bubble sorted array', bubbleSorted, '\\ntook', bubbleIteration, 'iterations')\n",
    "selectionSorted, selectionIteration = selectionSort(original)\n",
    "print('selection sorted array', selectionSorted, '\\ntook', selectionIteration, 'iterations')\n",
    "insertionSorted, insertionIteration = insertionSort(original)\n",
    "print('insertion sorted array', insertionSorted, '\\ntook', insertionIteration, 'iterations')\n",
    "gnomeSorted, gnomeIteration = gnomeSort(original)\n",
    "print('gnome sorted array', gnomeSorted, '\\ntook', gnomeIteration, 'iterations')"
   ]
  },
  {
   "attachments": {},
   "cell_type": "markdown",
   "metadata": {},
   "source": [
    "## A3.5"
   ]
  },
  {
   "attachments": {},
   "cell_type": "markdown",
   "metadata": {},
   "source": [
    "## A3.6"
   ]
  },
  {
   "attachments": {},
   "cell_type": "markdown",
   "metadata": {},
   "source": [
    "### Recursion Assignment\n",
    "*2023/03/06*"
   ]
  },
  {
   "cell_type": "code",
   "execution_count": 1,
   "metadata": {},
   "outputs": [
    {
     "name": "stdout",
     "output_type": "stream",
     "text": [
      "12 combination 4 is\n",
      "495.0\n"
     ]
    }
   ],
   "source": [
    "def factorial(n):\n",
    "    if n != 0: return n * factorial(n-1)\n",
    "    return 1\n",
    "\n",
    "userInput = input('put in your permutation or combination, nPr or nCr')\n",
    "for letter in userInput:\n",
    "    if letter == 'P':\n",
    "        operation = 'permutation'\n",
    "        n, r = int(userInput[:userInput.index('P')]), int(userInput[userInput.index('P')+1:])\n",
    "        break\n",
    "    if letter == 'C':\n",
    "        operation = 'combination'\n",
    "        n, r = int(userInput[:userInput.index('C')]), int(userInput[userInput.index('C')+1:])\n",
    "        break\n",
    "\n",
    "if n < r: print('n has to be larger than r')\n",
    "print(n, operation, r, 'is')\n",
    "if operation == 'permutation': print(factorial(n)/factorial(n-r))\n",
    "if operation == 'combination': print(factorial(n)/(factorial(n-r)*factorial(r)))\n"
   ]
  }
 ],
 "metadata": {
  "kernelspec": {
   "display_name": "Python 3.7.5 64-bit",
   "language": "python",
   "name": "python3"
  },
  "language_info": {
   "codemirror_mode": {
    "name": "ipython",
    "version": 3
   },
   "file_extension": ".py",
   "mimetype": "text/x-python",
   "name": "python",
   "nbconvert_exporter": "python",
   "pygments_lexer": "ipython3",
   "version": "3.10.8"
  },
  "orig_nbformat": 4,
  "vscode": {
   "interpreter": {
    "hash": "52634da84371cba311ea128a5ea7cdc41ff074b781779e754b270ff9f8153cee"
   }
  }
 },
 "nbformat": 4,
 "nbformat_minor": 2
}
